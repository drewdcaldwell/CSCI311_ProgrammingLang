{
  "nbformat": 4,
  "nbformat_minor": 0,
  "metadata": {
    "colab": {
      "provenance": []
    },
    "kernelspec": {
      "name": "python3",
      "display_name": "Python 3"
    },
    "language_info": {
      "name": "python"
    }
  },
  "cells": [
    {
      "cell_type": "code",
      "execution_count": null,
      "metadata": {
        "colab": {
          "base_uri": "https://localhost:8080/"
        },
        "id": "g7q6-Juj4fIc",
        "outputId": "d4afe8f0-d9d5-45ed-bfc2-81fbae50e618"
      },
      "outputs": [
        {
          "output_type": "stream",
          "name": "stdout",
          "text": [
            "True\n",
            "True\n",
            "False\n",
            "a is not equal to b\n"
          ]
        }
      ],
      "source": [
        "# Boolean Variables\n",
        "print(7 > 6)\n",
        "print(5 == 5)\n",
        "print(5 < 4)\n",
        "\n",
        "a = 5\n",
        "b = 6\n",
        "if(a == b):\n",
        "  print(\"a is equal to b\")\n",
        "else:\n",
        "  print(\"a is not equal to b\")"
      ]
    },
    {
      "cell_type": "code",
      "source": [
        "#bool()\n",
        "print(bool()) #empty list\n",
        "print(bool(())) #tuple\n",
        "print(bool({})) #set"
      ],
      "metadata": {
        "colab": {
          "base_uri": "https://localhost:8080/"
        },
        "id": "PuYKkvmv6ER5",
        "outputId": "b0c71e77-11af-4bf7-cc8d-25d1f7848a9c"
      },
      "execution_count": null,
      "outputs": [
        {
          "output_type": "stream",
          "name": "stdout",
          "text": [
            "False\n",
            "False\n",
            "False\n"
          ]
        }
      ]
    },
    {
      "cell_type": "code",
      "source": [
        "#operations\n",
        "a = 10\n",
        "b = 20\n",
        "c = \"Hello\"\n",
        "d = \" IUK\"\n",
        "print(a+b)\n",
        "print(a-b)\n",
        "print(a*b)\n",
        "print(a/b)\n",
        "print(a%b)\n",
        "\n",
        "print(c+d)\n"
      ],
      "metadata": {
        "colab": {
          "base_uri": "https://localhost:8080/"
        },
        "id": "87-JyQ0P6WZ7",
        "outputId": "6f32b644-f10b-429a-a160-5ff2e9533c27"
      },
      "execution_count": null,
      "outputs": [
        {
          "output_type": "stream",
          "name": "stdout",
          "text": [
            "30\n",
            "-10\n",
            "200\n",
            "0.5\n",
            "10\n",
            "Hello IUK\n"
          ]
        }
      ]
    },
    {
      "cell_type": "code",
      "source": [
        "# Lists : Multiple items put in one variable, collection of varied data types\n",
        "#lists use []\n",
        "\n",
        "list1 = [\"Apples\", \"Oranges\", \"Bananas\", \"Bananas\"]\n",
        "\n",
        "#ordered\n",
        "print(list1)\n",
        "\n",
        "list2 = [\"Strawberry\", 4, 4.5]\n",
        "\n",
        "print(list2)\n",
        "#duplicates are allowed\n",
        "\n",
        "#joining multiple lists\n",
        "\n",
        "list3 = list1 + list2\n",
        "print(list3)\n",
        "\n",
        "print(len(list3))\n",
        "\n",
        "#changeable\n",
        "\n",
        "list1[0] = \"blueberry\"\n",
        "\n",
        "print(list1)"
      ],
      "metadata": {
        "colab": {
          "base_uri": "https://localhost:8080/"
        },
        "id": "aG8G30xo7GXy",
        "outputId": "cb593b2c-d2c5-4534-e469-11490ea9f219"
      },
      "execution_count": null,
      "outputs": [
        {
          "output_type": "stream",
          "name": "stdout",
          "text": [
            "['Apples', 'Oranges', 'Bananas', 'Bananas']\n",
            "['Strawberry', 4, 4.5]\n",
            "['Apples', 'Oranges', 'Bananas', 'Bananas', 'Strawberry', 4, 4.5]\n",
            "7\n"
          ]
        }
      ]
    },
    {
      "cell_type": "code",
      "source": [
        "# Tuples are collections of data\n",
        "# one variable\n",
        "# unchangeable\n",
        "\n",
        "tuple1= (\"Apples\", \"Oranges\", \"Bananas\")\n",
        "\n",
        "print(tuple1)\n",
        "\n",
        "tuple2 = (\"Strawberry\",7, 8.5\"blueberry\")\n",
        "\n",
        "print(tuple2)\n",
        "\n",
        "tuple3 = tuple1+tuple2\n",
        "\n",
        "print(tuple3)\n",
        "print(tuple1[2])"
      ],
      "metadata": {
        "id": "fkuPJyFj-FHh"
      },
      "execution_count": null,
      "outputs": []
    },
    {
      "cell_type": "code",
      "source": [
        "# A set in python is a collection of data stored in one variable\n",
        "# unordered and unindexed\n",
        "\n",
        "set1 = {\"Apples\", \"Oranges\", \"Bananas\"}\n",
        "\n",
        "print(set1)\n",
        "\n",
        "print(len(set1))\n",
        "\n",
        "set2 = (\"Blueberry\", \"Strawberry\")\n",
        "\n",
        "print(set1.union(set2))\n",
        "\n"
      ],
      "metadata": {
        "colab": {
          "base_uri": "https://localhost:8080/"
        },
        "id": "BAPaywjnAKOC",
        "outputId": "7c16f945-93e5-4013-866c-ddf2cbba4ee5"
      },
      "execution_count": null,
      "outputs": [
        {
          "output_type": "stream",
          "name": "stdout",
          "text": [
            "{'Bananas', 'Apples', 'Oranges'}\n",
            "3\n",
            "{'Oranges', 'Blueberry', 'Strawberry', 'Apples', 'Bananas'}\n"
          ]
        }
      ]
    },
    {
      "cell_type": "code",
      "source": [
        "# Key value pair\n",
        "#{}\n",
        "\n",
        "dictionary1 = {\"Title\" : \"Atomic Habits\", \"Pages\" : 250, \"cost\" :10.5}\n",
        "\n",
        "print(dictionary1)\n",
        "\n",
        "#duplicates ignored\n",
        "\n",
        "print(dictionary1[\"Title\"])\n",
        "\n",
        "dictionary1[\"cost\"] = 9.5\n",
        "\n",
        "print(dictionary1)\n",
        "\n",
        "#changeable"
      ],
      "metadata": {
        "id": "Mz80053GCt_F"
      },
      "execution_count": null,
      "outputs": []
    },
    {
      "cell_type": "code",
      "source": [
        "# Conditional statements\n",
        "\n",
        "a = 10\n",
        "b = 5\n",
        "\n",
        "if b > a:\n",
        "  print(\"b is greater\")\n",
        "elif b == a:\n",
        "  print(\" b equals a\")\n",
        "else:\n",
        "  print(\" b is smaller\")"
      ],
      "metadata": {
        "colab": {
          "base_uri": "https://localhost:8080/"
        },
        "id": "LSknnCWtEUiL",
        "outputId": "71b3bc23-7189-4207-eb3b-3f58d9a610b5"
      },
      "execution_count": null,
      "outputs": [
        {
          "output_type": "stream",
          "name": "stdout",
          "text": [
            " b is smaller\n"
          ]
        }
      ]
    },
    {
      "cell_type": "code",
      "source": [
        "# Primitive for loops in python are while loop and for loop\n",
        "# While loop executes a statement as long as the condition is true\n",
        "\n",
        "i = 9\n",
        "\n",
        "while i < 9:\n",
        "  print(i)\n",
        "  i += 1"
      ],
      "metadata": {
        "id": "vzZMjJxVE72s"
      },
      "execution_count": null,
      "outputs": []
    },
    {
      "cell_type": "code",
      "source": [
        "#for loop can be used over a sequence\n",
        "#list, array, set, tuple, and dictionary\n",
        "\n",
        "for i in range(9):\n",
        "  print(i)\n",
        "\n",
        "a = \"Hello World\"\n",
        "\n",
        "for i in a:\n",
        "  print(i)\n",
        "\n",
        "set6 = (1,4,6,\"apple\",\"apple\")\n",
        "\n",
        "for i in set6:\n",
        "  print(i)\n",
        "\n",
        "for i in dictionary1:\n",
        "  print(i)"
      ],
      "metadata": {
        "colab": {
          "base_uri": "https://localhost:8080/"
        },
        "id": "bqc2MEUVFbLQ",
        "outputId": "01948039-a5a6-4ad8-ff20-2874aecd7a6c"
      },
      "execution_count": null,
      "outputs": [
        {
          "output_type": "stream",
          "name": "stdout",
          "text": [
            "0\n",
            "1\n",
            "2\n",
            "3\n",
            "4\n",
            "5\n",
            "6\n",
            "7\n",
            "8\n",
            "H\n",
            "e\n",
            "l\n",
            "l\n",
            "o\n",
            " \n",
            "W\n",
            "o\n",
            "r\n",
            "l\n",
            "d\n",
            "1\n",
            "4\n",
            "6\n",
            "apple\n",
            "apple\n",
            "Title\n",
            "Pages\n",
            "cost\n"
          ]
        }
      ]
    },
    {
      "cell_type": "markdown",
      "source": [
        "Python Methods for Lists\n",
        "\n",
        "append\n",
        "clear\n",
        "copy\n",
        "count\n",
        "index\n",
        "insert\n",
        "pop\n",
        "remove\n",
        "sort\n",
        "reverse\n"
      ],
      "metadata": {
        "id": "m70mJpvELyaj"
      }
    },
    {
      "cell_type": "code",
      "source": [
        "list1 = [\"Apple\", \"Orange\", \"Banana\"]\n",
        "print(list1)\n",
        "\n",
        "list1.append(\"Strawberry\")\n",
        "print(list1)\n",
        "\n",
        "# clear to empty the lists\n",
        "\n",
        "list1.clear()\n",
        "print(list1)\n",
        "\n",
        "list2 = [\"a\", \"b\", \"c\", \"d\"]\n",
        "list3 = list2.copy()\n",
        "\n",
        "print(list3)\n",
        "\n"
      ],
      "metadata": {
        "colab": {
          "base_uri": "https://localhost:8080/"
        },
        "id": "abPk1mzYL7Hh",
        "outputId": "d941c7c1-dcf0-4730-e89e-66e786e9a4ed"
      },
      "execution_count": null,
      "outputs": [
        {
          "output_type": "stream",
          "name": "stdout",
          "text": [
            "['Apple', 'Orange', 'Banana']\n",
            "['Apple', 'Orange', 'Banana', 'Strawberry']\n",
            "[]\n",
            "['a', 'b', 'c', 'd']\n"
          ]
        }
      ]
    },
    {
      "cell_type": "code",
      "source": [
        "#count\n",
        "list2=[\"a\",\"b\",\"c\",\"d\",\"x\",\"y\"]\n",
        "\n",
        "count = list2.count(\"c\")\n",
        "print(count)\n",
        "\n",
        "#index\n",
        "\n",
        "print(list2.index(\"a\"))\n",
        "\n",
        "#insert\n",
        "print(list2)\n",
        "list2.insert(4, \"blueberry\")\n",
        "print(list2)\n",
        "\n",
        "#pop\n",
        "print(list2)\n",
        "list2.pop(5)\n",
        "print(list2)\n",
        "\n",
        "#remove\n",
        "print(list2)\n",
        "list2.remove(\"blueberry\")\n",
        "print(list2)\n",
        "\n",
        "list3 = [\"a\",\"b\",\"z\",\"c\",\"d\",\"x\",\"y\"]\n",
        "list3.sort()\n",
        "print(list3)"
      ],
      "metadata": {
        "colab": {
          "base_uri": "https://localhost:8080/"
        },
        "id": "N5f9qY4aNjH4",
        "outputId": "23b03058-7502-4667-9478-92a6c7ebebf4"
      },
      "execution_count": null,
      "outputs": [
        {
          "output_type": "stream",
          "name": "stdout",
          "text": [
            "1\n",
            "0\n",
            "['a', 'b', 'c', 'd', 'x', 'y']\n",
            "['a', 'b', 'c', 'd', 'blueberry', 'x', 'y']\n",
            "['a', 'b', 'c', 'd', 'blueberry', 'x', 'y']\n",
            "['a', 'b', 'c', 'd', 'blueberry', 'y']\n",
            "['a', 'b', 'c', 'd', 'blueberry', 'y']\n",
            "['a', 'b', 'c', 'd', 'y']\n",
            "['a', 'b', 'c', 'd', 'x', 'y', 'z']\n"
          ]
        }
      ]
    },
    {
      "cell_type": "code",
      "source": [
        "#functions\n",
        "\n",
        "def msg():\n",
        "  print(\"Hello IUK\")\n",
        "\n",
        "msg()\n",
        "\n",
        "def add(x,y):\n",
        "  return x+y\n",
        "\n",
        "print(add(1,2))\n",
        "add(\"Hello\", \" world\")"
      ],
      "metadata": {
        "colab": {
          "base_uri": "https://localhost:8080/",
          "height": 70
        },
        "id": "8h2w9h3mQm2z",
        "outputId": "9901bf0c-98a2-4c7c-a948-bbe8e24f4e41"
      },
      "execution_count": null,
      "outputs": [
        {
          "output_type": "stream",
          "name": "stdout",
          "text": [
            "Hello IUK\n",
            "3\n"
          ]
        },
        {
          "output_type": "execute_result",
          "data": {
            "text/plain": [
              "'Hello world'"
            ],
            "application/vnd.google.colaboratory.intrinsic+json": {
              "type": "string"
            }
          },
          "metadata": {},
          "execution_count": 17
        }
      ]
    },
    {
      "cell_type": "code",
      "source": [
        "# classes in python\n",
        "\n",
        "class Book:\n",
        "\n",
        "  def __init__(self, title, cost, pages):\n",
        "    self.title = title\n",
        "    self.cost = cost\n",
        "    self.pages = pages\n",
        "\n",
        "  def details(self):\n",
        "    print(f\"The title of the book is {self.title} the cost is {self.cost} the number of pages is {self.pages}\")\n",
        "\n",
        "Bk1 = Book(\"Power of Habit\", 11.50, 250)\n",
        "#Book.details(Bk1)\n",
        "Bk1.details()\n",
        "\n",
        "# After the creation of the objects\n",
        "\n",
        "#Bk1.Title = \"Atomic Habits\"\n",
        "#Bk1.Cost = 15.6\n",
        "#Bk1.pages = 250\n",
        "\n",
        "print(vars(Bk1))\n"
      ],
      "metadata": {
        "colab": {
          "base_uri": "https://localhost:8080/"
        },
        "id": "U_XqZiFTRzLF",
        "outputId": "e641fbda-a6b7-4023-e9a0-73e8679e3743"
      },
      "execution_count": 22,
      "outputs": [
        {
          "output_type": "stream",
          "name": "stdout",
          "text": [
            "The title of the book is Power of Habit the cost is 11.5 the number of pages is 250\n",
            "{'title': 'Power of Habit', 'cost': 11.5, 'pages': 250}\n"
          ]
        }
      ]
    },
    {
      "cell_type": "code",
      "source": [
        "class Car:\n",
        "\n",
        "  def __init__(self, model, year, speed):\n",
        "    self.model = model\n",
        "    self.year = year\n",
        "    self.speed = speed\n",
        "\n",
        "  def get_speed(self):\n",
        "    return speed\n",
        "\n",
        "  def accelerate(self,speed):\n",
        "    return speed +10\n",
        "\n",
        "  def brake(self, speed):\n",
        "    return speed -6\n",
        "\n",
        "  def details(self):\n",
        "    print(f\"The Model of the car is {self.model} the year of the car is {self.year} and the speed of the car is {self.speed}\")\n",
        "\n",
        "car1 = Car(\"Mustang GT\", 2021, 35)\n",
        "\n",
        "car1.details()\n",
        "print(car1.get_speed(35));\n",
        "print(car1.speed)\n",
        "print(car1.accelerate(35))\n",
        "print(car1.brake(35))\n",
        "print(car1.accelerate(35))\n",
        "print(car1.get_speed(35))\n",
        "\n"
      ],
      "metadata": {
        "colab": {
          "base_uri": "https://localhost:8080/"
        },
        "id": "1oj8MnDwWdgn",
        "outputId": "bd9975fd-569b-4104-9f85-0e1c5fbdccfb"
      },
      "execution_count": 34,
      "outputs": [
        {
          "output_type": "stream",
          "name": "stdout",
          "text": [
            "The Model of the car is Mustang GT the year of the car is 2021 and the speed of the car is 35\n",
            "35\n",
            "35\n",
            "45\n",
            "29\n",
            "45\n",
            "35\n"
          ]
        }
      ]
    },
    {
      "cell_type": "code",
      "source": [
        "class Car:\n",
        "\n",
        "  def __init__(self,model, year, speed):\n",
        "    self.model = model\n",
        "    self.speed = speed\n",
        "    self.year = year\n",
        "\n",
        "  def accelerate(self):\n",
        "    self.speed +=10\n",
        "\n",
        "  def brake(self):\n",
        "    self.speed -=6\n",
        "\n",
        "  def getSpeed(self):\n",
        "    return self.speed\n",
        "\n",
        "\n",
        "\n",
        "\n",
        "c1 = Car(\"Mustang Gt\", 1500, 0)\n",
        "\n",
        "print(\"Initial speed\")\n",
        "print(c1.getSpeed())\n",
        "c1.getSpeed()\n",
        "c1.accelerate()\n",
        "c1.brake()\n",
        "c1.accelerate()\n",
        "print(\"Current speed\")\n",
        "c1.getSpeed()"
      ],
      "metadata": {
        "colab": {
          "base_uri": "https://localhost:8080/"
        },
        "id": "Wvmr1OdOZXuU",
        "outputId": "03371fa7-4845-463f-b728-546bebe7eb60"
      },
      "execution_count": 36,
      "outputs": [
        {
          "output_type": "stream",
          "name": "stdout",
          "text": [
            "Initial speed\n",
            "0\n",
            "Current speed\n"
          ]
        },
        {
          "output_type": "execute_result",
          "data": {
            "text/plain": [
              "14"
            ]
          },
          "metadata": {},
          "execution_count": 36
        }
      ]
    }
  ]
}