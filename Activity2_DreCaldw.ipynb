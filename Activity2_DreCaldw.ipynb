{
  "nbformat": 4,
  "nbformat_minor": 0,
  "metadata": {
    "colab": {
      "provenance": []
    },
    "kernelspec": {
      "name": "python3",
      "display_name": "Python 3"
    },
    "language_info": {
      "name": "python"
    }
  },
  "cells": [
    {
      "cell_type": "code",
      "execution_count": 4,
      "metadata": {
        "colab": {
          "base_uri": "https://localhost:8080/"
        },
        "id": "3WEc0IKnSGj2",
        "outputId": "afd5a5fa-d243-469b-9fb6-917c382aa670"
      },
      "outputs": [
        {
          "output_type": "stream",
          "name": "stdout",
          "text": [
            "String variable\n"
          ]
        }
      ],
      "source": [
        "# This is a single line comment in python\n",
        "\"\"\" In Python comments\n",
        "with multiple lines are\n",
        "represented by three\n",
        "quotation marks \"\"\"\n",
        "\n",
        "# Here is an integer variable\n",
        "x = 7\n",
        "\n",
        "# Here is a string variable\n",
        "y = \"String variable\"\n",
        "\n",
        "# now we can output these using\n",
        "print(y)"
      ]
    },
    {
      "cell_type": "code",
      "source": [
        "# In TypeCasting: we can change the type of the variable\n",
        "\n",
        "x = 5\n",
        "\n",
        "# This outputs the variable type of x\n",
        "print (type(x))\n",
        "\n",
        "# Likewise for strings...\n",
        "y = \"Hello IUK\"\n",
        "print (type(y))\n",
        "\n",
        "# To change the type of x,\n",
        "x = str(\"45\")\n",
        "print(type(x))\n",
        "\n",
        "# To get x back to an int,\n",
        "\n",
        "x = int(x)\n",
        "print(type(x))"
      ],
      "metadata": {
        "colab": {
          "base_uri": "https://localhost:8080/"
        },
        "id": "ht0rDq1nTIkb",
        "outputId": "7ec3cf58-bbc0-41de-bcc8-06b7c9d48bb3"
      },
      "execution_count": 8,
      "outputs": [
        {
          "output_type": "stream",
          "name": "stdout",
          "text": [
            "<class 'int'>\n",
            "<class 'str'>\n",
            "<class 'str'>\n",
            "<class 'int'>\n"
          ]
        }
      ]
    },
    {
      "cell_type": "code",
      "source": [
        "# String variable declaration\n",
        "# You can use either single or double quotes to do so\n",
        "x = \"Hello World\"\n",
        "y = 'Hello World'\n",
        "\n",
        "# They output the same result\n",
        "print(x)\n",
        "print(y)"
      ],
      "metadata": {
        "colab": {
          "base_uri": "https://localhost:8080/"
        },
        "id": "GrXA4w8aUE_f",
        "outputId": "ab43932f-7430-4dcb-e4d5-36616b7e5c57"
      },
      "execution_count": 9,
      "outputs": [
        {
          "output_type": "stream",
          "name": "stdout",
          "text": [
            "Hello World\n",
            "Hello World\n"
          ]
        }
      ]
    },
    {
      "cell_type": "code",
      "source": [
        "from os import tcgetpgrp\n",
        "# str [text]\n",
        "# int and float for numeric values\n",
        "# list tuple range sets dictionaries [sequences]\n",
        "# bool [boolean]\n",
        "\n",
        "x = 7\n",
        "u = 0.5\n",
        "\n",
        "t = \"text\"\n",
        "\n",
        "print(type(x))\n",
        "print(type(u))\n",
        "print(type(t))"
      ],
      "metadata": {
        "colab": {
          "base_uri": "https://localhost:8080/"
        },
        "id": "NNAeJHG7UpXN",
        "outputId": "592638ca-927e-4804-8a5e-0dc238fd10b9"
      },
      "execution_count": 11,
      "outputs": [
        {
          "output_type": "stream",
          "name": "stdout",
          "text": [
            "<class 'int'>\n",
            "<class 'float'>\n",
            "<class 'str'>\n"
          ]
        }
      ]
    },
    {
      "cell_type": "code",
      "source": [
        "s = \"\"\" My name is Drew I go to IU-Kokomo \"\"\"\n",
        "print(type(s))"
      ],
      "metadata": {
        "colab": {
          "base_uri": "https://localhost:8080/"
        },
        "id": "wLiPg8c9Vk6m",
        "outputId": "28d2904e-d987-4d6c-a853-c90d43e972a4"
      },
      "execution_count": 13,
      "outputs": [
        {
          "output_type": "stream",
          "name": "stdout",
          "text": [
            "<class 'str'>\n"
          ]
        }
      ]
    },
    {
      "cell_type": "code",
      "source": [
        "# python does not have a character data type, so instead we call a character a string of length 1.\n",
        "a = \"Hello IUK\"\n",
        "\n",
        "#To display the first character of variable named a,\n",
        "print(a[0])\n",
        "\n",
        "# To find the length of a string\n",
        "print(len(a))"
      ],
      "metadata": {
        "colab": {
          "base_uri": "https://localhost:8080/"
        },
        "id": "h3tITvCVWcMd",
        "outputId": "840189fe-6d39-459d-a0c7-83cb6537b943"
      },
      "execution_count": 16,
      "outputs": [
        {
          "output_type": "stream",
          "name": "stdout",
          "text": [
            "H\n",
            "9\n"
          ]
        }
      ]
    }
  ]
}