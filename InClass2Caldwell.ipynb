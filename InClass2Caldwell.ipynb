{
  "nbformat": 4,
  "nbformat_minor": 0,
  "metadata": {
    "colab": {
      "provenance": []
    },
    "kernelspec": {
      "name": "python3",
      "display_name": "Python 3"
    },
    "language_info": {
      "name": "python"
    }
  },
  "cells": [
    {
      "cell_type": "code",
      "execution_count": 2,
      "metadata": {
        "colab": {
          "base_uri": "https://localhost:8080/"
        },
        "id": "g7q6-Juj4fIc",
        "outputId": "d4afe8f0-d9d5-45ed-bfc2-81fbae50e618"
      },
      "outputs": [
        {
          "output_type": "stream",
          "name": "stdout",
          "text": [
            "True\n",
            "True\n",
            "False\n",
            "a is not equal to b\n"
          ]
        }
      ],
      "source": [
        "# Boolean Variables\n",
        "print(7 > 6)\n",
        "print(5 == 5)\n",
        "print(5 < 4)\n",
        "\n",
        "a = 5\n",
        "b = 6\n",
        "if(a == b):\n",
        "  print(\"a is equal to b\")\n",
        "else:\n",
        "  print(\"a is not equal to b\")"
      ]
    },
    {
      "cell_type": "code",
      "source": [
        "#bool()\n",
        "print(bool()) #empty list\n",
        "print(bool(())) #tuple\n",
        "print(bool({})) #set"
      ],
      "metadata": {
        "colab": {
          "base_uri": "https://localhost:8080/"
        },
        "id": "PuYKkvmv6ER5",
        "outputId": "b0c71e77-11af-4bf7-cc8d-25d1f7848a9c"
      },
      "execution_count": 3,
      "outputs": [
        {
          "output_type": "stream",
          "name": "stdout",
          "text": [
            "False\n",
            "False\n",
            "False\n"
          ]
        }
      ]
    },
    {
      "cell_type": "code",
      "source": [
        "#operations\n",
        "a = 10\n",
        "b = 20\n",
        "c = \"Hello\"\n",
        "d = \" IUK\"\n",
        "print(a+b)\n",
        "print(a-b)\n",
        "print(a*b)\n",
        "print(a/b)\n",
        "print(a%b)\n",
        "\n",
        "print(c+d)\n"
      ],
      "metadata": {
        "colab": {
          "base_uri": "https://localhost:8080/"
        },
        "id": "87-JyQ0P6WZ7",
        "outputId": "6f32b644-f10b-429a-a160-5ff2e9533c27"
      },
      "execution_count": 6,
      "outputs": [
        {
          "output_type": "stream",
          "name": "stdout",
          "text": [
            "30\n",
            "-10\n",
            "200\n",
            "0.5\n",
            "10\n",
            "Hello IUK\n"
          ]
        }
      ]
    },
    {
      "cell_type": "code",
      "source": [
        "# Lists : Multiple items put in one variable, collection of varied data types\n",
        "#lists use []\n",
        "\n",
        "list1 = [\"Apples\", \"Oranges\", \"Bananas\", \"Bananas\"]\n",
        "\n",
        "#ordered\n",
        "print(list1)\n",
        "\n",
        "list2 = [\"Strawberry\", 4, 4.5]\n",
        "\n",
        "print(list2)\n",
        "#duplicates are allowed\n",
        "\n",
        "#joining multiple lists\n",
        "\n",
        "list3 = list1 + list2\n",
        "print(list3)\n",
        "\n",
        "print(len(list3))\n",
        "\n",
        "#changeable\n",
        "\n",
        "list1[0] = \"blueberry\"\n",
        "\n",
        "print(list1)"
      ],
      "metadata": {
        "colab": {
          "base_uri": "https://localhost:8080/"
        },
        "id": "aG8G30xo7GXy",
        "outputId": "cb593b2c-d2c5-4534-e469-11490ea9f219"
      },
      "execution_count": 10,
      "outputs": [
        {
          "output_type": "stream",
          "name": "stdout",
          "text": [
            "['Apples', 'Oranges', 'Bananas', 'Bananas']\n",
            "['Strawberry', 4, 4.5]\n",
            "['Apples', 'Oranges', 'Bananas', 'Bananas', 'Strawberry', 4, 4.5]\n",
            "7\n"
          ]
        }
      ]
    },
    {
      "cell_type": "code",
      "source": [
        "# Tuples are collections of data\n",
        "# one variable\n",
        "# unchangeable\n",
        "\n",
        "tuple1= (\"Apples\", \"Oranges\", \"Bananas\")\n",
        "\n",
        "print(tuple1)\n",
        "\n",
        "tuple2 = (\"Strawberry\",7, 8.5\"blueberry\")\n",
        "\n",
        "print(tuple2)\n",
        "\n",
        "tuple3 = tuple1+tuple2\n",
        "\n",
        "print(tuple3)\n",
        "print(tuple1[2])"
      ],
      "metadata": {
        "id": "fkuPJyFj-FHh"
      },
      "execution_count": null,
      "outputs": []
    },
    {
      "cell_type": "code",
      "source": [
        "# A set in python is a collection of data stored in one variable\n",
        "# unordered and unindexed\n",
        "\n",
        "set1 = {\"Apples\", \"Oranges\", \"Bananas\"}\n",
        "\n",
        "print(set1)\n",
        "\n",
        "print(len(set1))\n",
        "\n",
        "set2 = (\"Blueberry\", \"Strawberry\")\n",
        "\n",
        "print(set1.union(set2))\n",
        "\n"
      ],
      "metadata": {
        "colab": {
          "base_uri": "https://localhost:8080/"
        },
        "id": "BAPaywjnAKOC",
        "outputId": "7c16f945-93e5-4013-866c-ddf2cbba4ee5"
      },
      "execution_count": 12,
      "outputs": [
        {
          "output_type": "stream",
          "name": "stdout",
          "text": [
            "{'Bananas', 'Apples', 'Oranges'}\n",
            "3\n",
            "{'Oranges', 'Blueberry', 'Strawberry', 'Apples', 'Bananas'}\n"
          ]
        }
      ]
    },
    {
      "cell_type": "code",
      "source": [
        "# Key value pair\n",
        "#{}\n",
        "\n",
        "dictionary1 = {\"Title\" : \"Atomic Habits\", \"Pages\" : 250, \"cost\" :10.5}\n",
        "\n",
        "print(dictionary1)\n",
        "\n",
        "#duplicates ignored\n",
        "\n",
        "print(dictionary1[\"Title\"])\n",
        "\n",
        "dictionary1[\"cost\"] = 9.5\n",
        "\n",
        "print(dictionary1)\n",
        "\n",
        "#changeable"
      ],
      "metadata": {
        "id": "Mz80053GCt_F"
      },
      "execution_count": 13,
      "outputs": []
    },
    {
      "cell_type": "code",
      "source": [
        "# Conditional statements\n",
        "\n",
        "a = 10\n",
        "b = 5\n",
        "\n",
        "if b > a:\n",
        "  print(\"b is greater\")\n",
        "elif b == a:\n",
        "  print(\" b equals a\")\n",
        "else:\n",
        "  print(\" b is smaller\")"
      ],
      "metadata": {
        "colab": {
          "base_uri": "https://localhost:8080/"
        },
        "id": "LSknnCWtEUiL",
        "outputId": "71b3bc23-7189-4207-eb3b-3f58d9a610b5"
      },
      "execution_count": 14,
      "outputs": [
        {
          "output_type": "stream",
          "name": "stdout",
          "text": [
            " b is smaller\n"
          ]
        }
      ]
    },
    {
      "cell_type": "code",
      "source": [
        "# Primitive for loops in python are while loop and for loop\n",
        "# While loop executes a statement as long as the condition is true\n",
        "\n",
        "i = 9\n",
        "\n",
        "while i < 9:\n",
        "  print(i)\n",
        "  i += 1"
      ],
      "metadata": {
        "id": "vzZMjJxVE72s"
      },
      "execution_count": null,
      "outputs": []
    },
    {
      "cell_type": "code",
      "source": [
        "#for loop can be used over a sequence\n",
        "#list, array, set, tuple, and dictionary\n",
        "\n",
        "for i in range(9):\n",
        "  print(i)\n",
        "\n",
        "a = \"Hello World\"\n",
        "\n",
        "for i in a:\n",
        "  print(i)\n",
        "\n",
        "set6 = (1,4,6,\"apple\",\"apple\")\n",
        "\n",
        "for i in set6:\n",
        "  print(i)\n",
        "\n",
        "for i in dictionary1:\n",
        "  print(i)"
      ],
      "metadata": {
        "colab": {
          "base_uri": "https://localhost:8080/"
        },
        "id": "bqc2MEUVFbLQ",
        "outputId": "01948039-a5a6-4ad8-ff20-2874aecd7a6c"
      },
      "execution_count": 18,
      "outputs": [
        {
          "output_type": "stream",
          "name": "stdout",
          "text": [
            "0\n",
            "1\n",
            "2\n",
            "3\n",
            "4\n",
            "5\n",
            "6\n",
            "7\n",
            "8\n",
            "H\n",
            "e\n",
            "l\n",
            "l\n",
            "o\n",
            " \n",
            "W\n",
            "o\n",
            "r\n",
            "l\n",
            "d\n",
            "1\n",
            "4\n",
            "6\n",
            "apple\n",
            "apple\n",
            "Title\n",
            "Pages\n",
            "cost\n"
          ]
        }
      ]
    },
    {
      "cell_type": "code",
      "source": [],
      "metadata": {
        "id": "o176oN6NF9Qn"
      },
      "execution_count": null,
      "outputs": []
    }
  ]
}